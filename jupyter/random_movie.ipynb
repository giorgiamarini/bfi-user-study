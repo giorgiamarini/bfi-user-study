{
 "cells": [
  {
   "cell_type": "code",
   "execution_count": 2,
   "metadata": {},
   "outputs": [],
   "source": [
    "import pandas as pd"
   ]
  },
  {
   "cell_type": "code",
   "execution_count": 3,
   "metadata": {},
   "outputs": [],
   "source": [
    "movies = pd.read_csv('cleaned_movies.csv')"
   ]
  },
  {
   "cell_type": "code",
   "execution_count": 61,
   "metadata": {},
   "outputs": [],
   "source": [
    "final = movies.sample(n=5)"
   ]
  },
  {
   "cell_type": "code",
   "execution_count": 62,
   "metadata": {},
   "outputs": [
    {
     "data": {
      "text/html": [
       "<div>\n",
       "<style scoped>\n",
       "    .dataframe tbody tr th:only-of-type {\n",
       "        vertical-align: middle;\n",
       "    }\n",
       "\n",
       "    .dataframe tbody tr th {\n",
       "        vertical-align: top;\n",
       "    }\n",
       "\n",
       "    .dataframe thead th {\n",
       "        text-align: right;\n",
       "    }\n",
       "</style>\n",
       "<table border=\"1\" class=\"dataframe\">\n",
       "  <thead>\n",
       "    <tr style=\"text-align: right;\">\n",
       "      <th></th>\n",
       "      <th>movie_id</th>\n",
       "      <th>title</th>\n",
       "      <th>releaseDate</th>\n",
       "      <th>directedBy</th>\n",
       "      <th>starring</th>\n",
       "      <th>imdb_id</th>\n",
       "      <th>tmdb_id</th>\n",
       "      <th>genres</th>\n",
       "    </tr>\n",
       "  </thead>\n",
       "  <tbody>\n",
       "    <tr>\n",
       "      <th>45279</th>\n",
       "      <td>173141</td>\n",
       "      <td>The Stopover (2016)</td>\n",
       "      <td>2016-09-07</td>\n",
       "      <td>Muriel Coulin</td>\n",
       "      <td>Soko,Ariane Labed,Ginger Romàn,Karim Leklou,An...</td>\n",
       "      <td>4699444</td>\n",
       "      <td>392788.0</td>\n",
       "      <td>Drama</td>\n",
       "    </tr>\n",
       "    <tr>\n",
       "      <th>46450</th>\n",
       "      <td>175979</td>\n",
       "      <td>American Violence (2017)</td>\n",
       "      <td>2017-02-03</td>\n",
       "      <td>Timothy Woodward Jr.</td>\n",
       "      <td>Kaiwi Lyman,Bruce Dern,Denise Richards,Columbu...</td>\n",
       "      <td>5848714</td>\n",
       "      <td>435473.0</td>\n",
       "      <td>Crime,Drama,Thriller</td>\n",
       "    </tr>\n",
       "    <tr>\n",
       "      <th>16137</th>\n",
       "      <td>79091</td>\n",
       "      <td>Despicable Me (2010)</td>\n",
       "      <td>2010-07-09</td>\n",
       "      <td>Pierre Coffin, Chris Renaud</td>\n",
       "      <td>Steve Carell, Jason Segel, Russell Brand, Juli...</td>\n",
       "      <td>1323594</td>\n",
       "      <td>20352.0</td>\n",
       "      <td>Animation,Children,Comedy,Crime</td>\n",
       "    </tr>\n",
       "    <tr>\n",
       "      <th>48908</th>\n",
       "      <td>182639</td>\n",
       "      <td>The Second Renaissance Part II (2003)</td>\n",
       "      <td>2003-06-01</td>\n",
       "      <td>Mahiro Maeda</td>\n",
       "      <td>Julia Fletcher,Dane A. Davis,Debi Derryberry,J...</td>\n",
       "      <td>368575</td>\n",
       "      <td>24362.0</td>\n",
       "      <td>Sci-Fi,Animation</td>\n",
       "    </tr>\n",
       "    <tr>\n",
       "      <th>26833</th>\n",
       "      <td>121188</td>\n",
       "      <td>Room 6 (2006)</td>\n",
       "      <td>2006-06-13</td>\n",
       "      <td>Michael Hurst</td>\n",
       "      <td>Christine Taylor,Shane Brolly,Chloë Grace More...</td>\n",
       "      <td>451187</td>\n",
       "      <td>10055.0</td>\n",
       "      <td>Horror,Mystery,Thriller</td>\n",
       "    </tr>\n",
       "  </tbody>\n",
       "</table>\n",
       "</div>"
      ],
      "text/plain": [
       "       movie_id                                  title releaseDate  \\\n",
       "45279    173141                    The Stopover (2016)  2016-09-07   \n",
       "46450    175979               American Violence (2017)  2017-02-03   \n",
       "16137     79091                   Despicable Me (2010)  2010-07-09   \n",
       "48908    182639  The Second Renaissance Part II (2003)  2003-06-01   \n",
       "26833    121188                          Room 6 (2006)  2006-06-13   \n",
       "\n",
       "                        directedBy  \\\n",
       "45279                Muriel Coulin   \n",
       "46450         Timothy Woodward Jr.   \n",
       "16137  Pierre Coffin, Chris Renaud   \n",
       "48908                 Mahiro Maeda   \n",
       "26833                Michael Hurst   \n",
       "\n",
       "                                                starring  imdb_id   tmdb_id  \\\n",
       "45279  Soko,Ariane Labed,Ginger Romàn,Karim Leklou,An...  4699444  392788.0   \n",
       "46450  Kaiwi Lyman,Bruce Dern,Denise Richards,Columbu...  5848714  435473.0   \n",
       "16137  Steve Carell, Jason Segel, Russell Brand, Juli...  1323594   20352.0   \n",
       "48908  Julia Fletcher,Dane A. Davis,Debi Derryberry,J...   368575   24362.0   \n",
       "26833  Christine Taylor,Shane Brolly,Chloë Grace More...   451187   10055.0   \n",
       "\n",
       "                                genres  \n",
       "45279                            Drama  \n",
       "46450             Crime,Drama,Thriller  \n",
       "16137  Animation,Children,Comedy,Crime  \n",
       "48908                 Sci-Fi,Animation  \n",
       "26833          Horror,Mystery,Thriller  "
      ]
     },
     "execution_count": 62,
     "metadata": {},
     "output_type": "execute_result"
    }
   ],
   "source": [
    "final"
   ]
  },
  {
   "cell_type": "code",
   "execution_count": 63,
   "metadata": {},
   "outputs": [],
   "source": [
    "final.to_csv(\"random.csv\")"
   ]
  },
  {
   "cell_type": "code",
   "execution_count": null,
   "metadata": {},
   "outputs": [],
   "source": []
  }
 ],
 "metadata": {
  "kernelspec": {
   "display_name": "Python 2",
   "language": "python",
   "name": "python2"
  },
  "language_info": {
   "codemirror_mode": {
    "name": "ipython",
    "version": 3
   },
   "file_extension": ".py",
   "mimetype": "text/x-python",
   "name": "python",
   "nbconvert_exporter": "python",
   "pygments_lexer": "ipython3",
   "version": "3.10.6"
  }
 },
 "nbformat": 4,
 "nbformat_minor": 4
}

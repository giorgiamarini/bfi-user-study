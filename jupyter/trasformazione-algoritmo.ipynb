{
 "cells": [
  {
   "cell_type": "code",
   "execution_count": 3,
   "id": "0d41bd52",
   "metadata": {},
   "outputs": [
    {
     "name": "stdout",
     "output_type": "stream",
     "text": [
      "Requirement already satisfied: scipy in /Library/Frameworks/Python.framework/Versions/3.10/lib/python3.10/site-packages (1.10.0)\n",
      "Requirement already satisfied: numpy<1.27.0,>=1.19.5 in /Library/Frameworks/Python.framework/Versions/3.10/lib/python3.10/site-packages (from scipy) (1.24.0)\n",
      "--- Logging error ---\n",
      "Traceback (most recent call last):\n",
      "  File \"/Library/Frameworks/Python.framework/Versions/3.10/lib/python3.10/site-packages/pip/_internal/utils/logging.py\", line 177, in emit\n",
      "    self.console.print(renderable, overflow=\"ignore\", crop=False, style=style)\n",
      "  File \"/Library/Frameworks/Python.framework/Versions/3.10/lib/python3.10/site-packages/pip/_vendor/rich/console.py\", line 1673, in print\n",
      "    extend(render(renderable, render_options))\n",
      "  File \"/Library/Frameworks/Python.framework/Versions/3.10/lib/python3.10/site-packages/pip/_vendor/rich/console.py\", line 1305, in render\n",
      "    for render_output in iter_render:\n",
      "  File \"/Library/Frameworks/Python.framework/Versions/3.10/lib/python3.10/site-packages/pip/_internal/utils/logging.py\", line 134, in __rich_console__\n",
      "    for line in lines:\n",
      "  File \"/Library/Frameworks/Python.framework/Versions/3.10/lib/python3.10/site-packages/pip/_vendor/rich/segment.py\", line 249, in split_lines\n",
      "    for segment in segments:\n",
      "  File \"/Library/Frameworks/Python.framework/Versions/3.10/lib/python3.10/site-packages/pip/_vendor/rich/console.py\", line 1283, in render\n",
      "    renderable = rich_cast(renderable)\n",
      "  File \"/Library/Frameworks/Python.framework/Versions/3.10/lib/python3.10/site-packages/pip/_vendor/rich/protocol.py\", line 36, in rich_cast\n",
      "    renderable = cast_method()\n",
      "  File \"/Library/Frameworks/Python.framework/Versions/3.10/lib/python3.10/site-packages/pip/_internal/self_outdated_check.py\", line 130, in __rich__\n",
      "    pip_cmd = get_best_invocation_for_this_pip()\n",
      "  File \"/Library/Frameworks/Python.framework/Versions/3.10/lib/python3.10/site-packages/pip/_internal/utils/entrypoints.py\", line 58, in get_best_invocation_for_this_pip\n",
      "    if found_executable and os.path.samefile(\n",
      "  File \"/Library/Frameworks/Python.framework/Versions/3.10/lib/python3.10/genericpath.py\", line 101, in samefile\n",
      "    s2 = os.stat(f2)\n",
      "FileNotFoundError: [Errno 2] No such file or directory: '/Library/Frameworks/Python.framework/Versions/3.10/bin/pip'\n",
      "Call stack:\n",
      "  File \"/Library/Frameworks/Python.framework/Versions/3.10/lib/python3.10/runpy.py\", line 196, in _run_module_as_main\n",
      "    return _run_code(code, main_globals, None,\n",
      "  File \"/Library/Frameworks/Python.framework/Versions/3.10/lib/python3.10/runpy.py\", line 86, in _run_code\n",
      "    exec(code, run_globals)\n",
      "  File \"/Library/Frameworks/Python.framework/Versions/3.10/lib/python3.10/site-packages/pip/__main__.py\", line 31, in <module>\n",
      "    sys.exit(_main())\n",
      "  File \"/Library/Frameworks/Python.framework/Versions/3.10/lib/python3.10/site-packages/pip/_internal/cli/main.py\", line 70, in main\n",
      "    return command.main(cmd_args)\n",
      "  File \"/Library/Frameworks/Python.framework/Versions/3.10/lib/python3.10/site-packages/pip/_internal/cli/base_command.py\", line 101, in main\n",
      "    return self._main(args)\n",
      "  File \"/Library/Frameworks/Python.framework/Versions/3.10/lib/python3.10/site-packages/pip/_internal/cli/base_command.py\", line 223, in _main\n",
      "    self.handle_pip_version_check(options)\n",
      "  File \"/Library/Frameworks/Python.framework/Versions/3.10/lib/python3.10/site-packages/pip/_internal/cli/req_command.py\", line 190, in handle_pip_version_check\n",
      "    pip_self_version_check(session, options)\n",
      "  File \"/Library/Frameworks/Python.framework/Versions/3.10/lib/python3.10/site-packages/pip/_internal/self_outdated_check.py\", line 236, in pip_self_version_check\n",
      "    logger.warning(\"[present-rich] %s\", upgrade_prompt)\n",
      "  File \"/Library/Frameworks/Python.framework/Versions/3.10/lib/python3.10/logging/__init__.py\", line 1489, in warning\n",
      "    self._log(WARNING, msg, args, **kwargs)\n",
      "  File \"/Library/Frameworks/Python.framework/Versions/3.10/lib/python3.10/logging/__init__.py\", line 1624, in _log\n",
      "    self.handle(record)\n",
      "  File \"/Library/Frameworks/Python.framework/Versions/3.10/lib/python3.10/logging/__init__.py\", line 1634, in handle\n",
      "    self.callHandlers(record)\n",
      "  File \"/Library/Frameworks/Python.framework/Versions/3.10/lib/python3.10/logging/__init__.py\", line 1696, in callHandlers\n",
      "    hdlr.handle(record)\n",
      "  File \"/Library/Frameworks/Python.framework/Versions/3.10/lib/python3.10/logging/__init__.py\", line 968, in handle\n",
      "    self.emit(record)\n",
      "  File \"/Library/Frameworks/Python.framework/Versions/3.10/lib/python3.10/site-packages/pip/_internal/utils/logging.py\", line 179, in emit\n",
      "    self.handleError(record)\n",
      "Message: '[present-rich] %s'\n",
      "Arguments: (UpgradePrompt(old='22.2.1', new='22.3.1'),)\n"
     ]
    }
   ],
   "source": [
    "import pandas as pd\n",
    "import csv\n",
    "import sys\n",
    "!{sys.executable} -m pip install scipy\n",
    "from scipy.sparse import csr_matrix\n",
    "import math"
   ]
  },
  {
   "cell_type": "code",
   "execution_count": 4,
   "id": "b710f05b",
   "metadata": {},
   "outputs": [],
   "source": [
    "ser_ps_u = 0.533435\n",
    "ratings_u = [3,4,5,2,1]"
   ]
  },
  {
   "cell_type": "code",
   "execution_count": 5,
   "id": "073208a9",
   "metadata": {},
   "outputs": [],
   "source": [
    "df_ratings = pd.read_csv(r'new_ratings_1000.csv')\n",
    "df_personalityData = pd.read_csv(r'new_personalityData_1000.csv')\n",
    "list_ids = list(df_personalityData['user_id'].unique())\n",
    "list_repeated_ids = list(df_ratings['user_id'])\n",
    "new_id = []\n",
    "for i in list_repeated_ids:\n",
    "    new_id.append(list_ids.index(i))\n",
    "df_ratings = df_ratings.assign(new_id=pd.Series(new_id).values)"
   ]
  },
  {
   "cell_type": "code",
   "execution_count": 6,
   "id": "1df875b1",
   "metadata": {},
   "outputs": [],
   "source": [
    "df_movies = pd.read_csv(r'new_movies_1000.csv')\n",
    "df_ratings_base = pd.read_csv(r'cleaned_ratings.csv')"
   ]
  },
  {
   "cell_type": "code",
   "execution_count": 7,
   "id": "dcb883a4",
   "metadata": {},
   "outputs": [],
   "source": [
    "with open('filtered_dict_pop.csv') as dict_pop_file:\n",
    "    reader = csv.reader(dict_pop_file)\n",
    "    next(reader)\n",
    "    dict_pop = dict(reader)\n",
    "dict_pop = dict((int(k),float(v)) for k,v in dict_pop.items())"
   ]
  },
  {
   "cell_type": "code",
   "execution_count": 8,
   "id": "fb0552e4",
   "metadata": {},
   "outputs": [],
   "source": [
    "df_ratings_base = df_ratings_base[df_ratings_base['movie_id'].isin(df_ratings['movie_id'].unique())]\n",
    "new_df=pd.concat([df_ratings,df_ratings_base]).drop_duplicates(keep=False)"
   ]
  },
  {
   "cell_type": "code",
   "execution_count": 9,
   "id": "fa2dab81",
   "metadata": {},
   "outputs": [],
   "source": [
    "user_ratings = {}\n",
    "ids = [60, 261, 277, 2641, 56176, 84716]\n",
    "for i in range(5):\n",
    "    user_ratings[ids[i]]= ratings_u[i]"
   ]
  },
  {
   "cell_type": "code",
   "execution_count": 10,
   "id": "bd8e58e1",
   "metadata": {},
   "outputs": [
    {
     "data": {
      "text/plain": [
       "{60: 3, 261: 4, 277: 5, 2641: 2, 56176: 1}"
      ]
     },
     "execution_count": 10,
     "metadata": {},
     "output_type": "execute_result"
    }
   ],
   "source": [
    "user_ratings"
   ]
  },
  {
   "cell_type": "code",
   "execution_count": 11,
   "id": "c00c13ae",
   "metadata": {},
   "outputs": [],
   "source": [
    "count = 0\n",
    "for i in user_ratings.values():\n",
    "    count = count + i\n",
    "mean_rA = count/len(user_ratings)"
   ]
  },
  {
   "cell_type": "code",
   "execution_count": 12,
   "id": "1b867858",
   "metadata": {},
   "outputs": [],
   "source": [
    "# Viene inizializzato l’insieme vuoto M, nel quale verranno poi inseriti gli utenti più simili all’utente target.\n",
    "dict_intersection_movies = {}\n",
    "dict_user_profiles = {}"
   ]
  },
  {
   "cell_type": "code",
   "execution_count": 13,
   "id": "27b1bf43",
   "metadata": {},
   "outputs": [],
   "source": [
    "for user in df_ratings['new_id'].unique():\n",
    "    user_profile = df_ratings.loc[(df_ratings['new_id']==user)]['movie_id'].tolist()\n",
    "    dict_user_profiles[user] = user_profile"
   ]
  },
  {
   "cell_type": "code",
   "execution_count": 14,
   "id": "d2f16cab",
   "metadata": {},
   "outputs": [],
   "source": [
    "for user in dict_user_profiles.keys():\n",
    "    intersection_set = set.intersection(set(dict_user_profiles[user]), set(list(user_ratings.keys())))\n",
    "    if len(intersection_set):\n",
    "        dict_intersection_movies[user] = list(intersection_set)"
   ]
  },
  {
   "cell_type": "code",
   "execution_count": 15,
   "id": "9d416779",
   "metadata": {},
   "outputs": [],
   "source": [
    "rating_matrix = csr_matrix((df_ratings['rating'], (df_ratings['new_id'], df_ratings['movie_id'])))"
   ]
  },
  {
   "cell_type": "code",
   "execution_count": 16,
   "id": "946ae00a",
   "metadata": {},
   "outputs": [],
   "source": [
    "dict_mean_r = {}\n",
    "for user in dict_intersection_movies.keys():\n",
    "    mean = 0\n",
    "    count = 0\n",
    "    n = 0\n",
    "    for index, row in df_ratings.loc[(df_ratings['new_id']==user)].iterrows():\n",
    "        count = count + row['rating']\n",
    "        n = n+1\n",
    "    dict_mean_r[user] = count/n"
   ]
  },
  {
   "cell_type": "code",
   "execution_count": 17,
   "id": "48570fe7",
   "metadata": {},
   "outputs": [
    {
     "name": "stderr",
     "output_type": "stream",
     "text": [
      "/var/folders/nd/h21gg_591lx6z5ydslnmgkkm0000gn/T/ipykernel_10864/2316746475.py:17: RuntimeWarning: invalid value encountered in scalar divide\n",
      "  sim = num/(math.sqrt(denA)*math.sqrt(denB))\n"
     ]
    }
   ],
   "source": [
    "dict_sim_neighbors = {}\n",
    "    # Viene calcolata la similarità tra l’utente target u e ogni utente v che ha con lui almeno un item co-rated, \n",
    "    #utilizzando il Pearson Correlation Coefficient.\n",
    "\n",
    "for user, movies in dict_intersection_movies.items():\n",
    "    num = 0\n",
    "    denA = 0\n",
    "    denB = 0\n",
    "    mean_rB = dict_mean_r[user]\n",
    "    for i in movies:\n",
    "        rA = user_ratings[i]\n",
    "        #rB = df_ratings.loc[(df_ratings['new_id']==user) & (df_ratings['movie_id']==i)]['rating'].values[0]\n",
    "        rB = rating_matrix[user,i]\n",
    "        num = num + ((rA-mean_rA)*(rB-mean_rB))\n",
    "        denA = denA + ((rA-mean_rA)*(rA-mean_rA))\n",
    "        denB = denB + ((rB-mean_rB)*(rB-mean_rB))\n",
    "    sim = num/(math.sqrt(denA)*math.sqrt(denB))\n",
    "    dict_sim_neighbors[user]=sim"
   ]
  },
  {
   "cell_type": "code",
   "execution_count": 18,
   "id": "41867d0a",
   "metadata": {},
   "outputs": [],
   "source": [
    "unobs_movies = list(set(df_movies['movie_id'].unique())-set(user_ratings.keys()))\n",
    "# Vengono aggiunti all’insieme M gli utenti per i quali la similarità risulta maggiore di 0.2, \n",
    "# cioè il valore che è stato ritenuto essere la soglia più adatta oltre la quale considerare \n",
    "# due utenti abbastanza simili, essendo il Pearson Correlation Coefficient compreso tra -1 e +1\n",
    "nearest_neighbors = {k: v for k, v in dict_sim_neighbors.items() if v>=0.2}"
   ]
  },
  {
   "cell_type": "code",
   "execution_count": 19,
   "id": "a5d192b5",
   "metadata": {},
   "outputs": [],
   "source": [
    "#viene poi calcolato il predicted rating rˆu,i dell’utente target u per ogni item i al quale l’utente non ha ancora assegnato un rating;\n",
    "dict_pred_r = {}\n",
    "for i in unobs_movies:\n",
    "    num = 0\n",
    "    den = 0\n",
    "    for j in nearest_neighbors.keys():\n",
    "        '''ratings_list = dict_user_ratings[j]\n",
    "        r_bi=0\n",
    "        for (movie, rating) in ratings:\n",
    "            if movie==i:\n",
    "                r_bi=rating\n",
    "                break'''\n",
    "        r_bi = rating_matrix[j,i]\n",
    "        if r_bi:\n",
    "            num = num + (nearest_neighbors[j]*(r_bi-dict_mean_r[j]))\n",
    "            den = den + nearest_neighbors[j]\n",
    "    if den:\n",
    "        dict_pred_r[i] = mean_rA + (num/den)  \n",
    "\n",
    "dict_user_ratings = {}\n",
    "\n",
    "dict_pred_r = {}\n",
    "for i in unobs_movies:\n",
    "    num = 0\n",
    "    den = 0\n",
    "    for j in nearest_neighbors.keys():\n",
    "        '''ratings_list = dict_user_ratings[j]\n",
    "        r_bi=0\n",
    "        for (movie, rating) in ratings:\n",
    "            if movie==i:\n",
    "                r_bi=rating\n",
    "                break'''\n",
    "        r_bi = rating_matrix[j,i]\n",
    "        if r_bi:\n",
    "            num = num + (nearest_neighbors[j]*(r_bi-dict_mean_r[j]))\n",
    "            den = den + nearest_neighbors[j]\n",
    "    if den:\n",
    "        dict_pred_r[i] = mean_rA + (num/den)"
   ]
  },
  {
   "cell_type": "code",
   "execution_count": 20,
   "id": "70b137e5",
   "metadata": {},
   "outputs": [],
   "source": [
    "#viene successivamente inizializzato l’insieme vuoto C degli item candidati;\n",
    "#infine, gli item dell’insieme I con il predicted rating più alto, più precisamente il 10% del totale, \n",
    "# vengono inseriti nell’insieme C, che costituirà il punto di partenza della seconda fase dell’algoritmo.\n",
    "n = len(dict_pred_r)\n",
    "n_chosen = n//10\n",
    "\n",
    "ordered = sorted(dict_pred_r.items(), key=lambda item: item[1], reverse=True)\n",
    "_, max_r = ordered[0]\n",
    "_, min_r = ordered[-1]\n",
    "\n",
    "new_ordered = []\n",
    "for movie, rating in ordered:\n",
    "    r = (rating-min_r)/(max_r-min_r)\n",
    "    new_ordered.append((movie,r))\n",
    "\n",
    "dict_chosen_pred_r = dict(new_ordered[0:n_chosen])"
   ]
  },
  {
   "cell_type": "code",
   "execution_count": 21,
   "id": "8c9dcecd",
   "metadata": {},
   "outputs": [],
   "source": [
    "with open('dict_sim_new.csv') as dict_sim_file:\n",
    "    reader = csv.reader(dict_sim_file)\n",
    "    next(reader)\n",
    "    dict_sim = dict(reader)"
   ]
  },
  {
   "cell_type": "code",
   "execution_count": 22,
   "id": "94f16d8a",
   "metadata": {},
   "outputs": [],
   "source": [
    "def tuple(string):\n",
    "    ids = string[1:-1].split(\", \")\n",
    "    ids[0]=int(ids[0])\n",
    "    ids[1]=int(ids[1])\n",
    "    return (ids[0], ids[1])\n",
    "dict_sim = dict((tuple(k),float(v)) for k,v in dict_sim.items())"
   ]
  },
  {
   "cell_type": "code",
   "execution_count": 23,
   "id": "819b2f22",
   "metadata": {},
   "outputs": [],
   "source": [
    "rec_list = []\n",
    "n_ser = 0\n",
    "ser_values={}"
   ]
  },
  {
   "cell_type": "code",
   "execution_count": 24,
   "id": "a7f5d969",
   "metadata": {},
   "outputs": [
    {
     "name": "stdout",
     "output_type": "stream",
     "text": [
      "1\n",
      "2\n",
      "3\n",
      "4\n",
      "5\n"
     ]
    }
   ],
   "source": [
    "count = 0\n",
    "for i in range(5):\n",
    "    count = count+1\n",
    "    print(count)\n",
    "    dict_score_final = {}\n",
    "    for k, v in dict_chosen_pred_r.items():\n",
    "        diss_m = 0\n",
    "        for m in user_ratings.keys():\n",
    "            if (m,k) in dict_sim.keys():\n",
    "                sim = dict_sim[(m,k)]\n",
    "            elif (k,m) in dict_sim.keys():\n",
    "                sim = dict_sim[(k,m)]\n",
    "            diss_m = diss_m + (1-sim)\n",
    "        diss_ui = diss_m/len(user_ratings)\n",
    "        ser_ui = 0.9 * v + 0.7 * diss_ui - 0.6 * dict_pop[k]\n",
    "        if k not in ser_values:\n",
    "            ser_values[k]=ser_ui\n",
    "        if ser_ui > 0.7:\n",
    "            curr_n_ser=n_ser+1\n",
    "        else:\n",
    "            curr_n_ser=n_ser\n",
    "        ser_list = curr_n_ser/(len(rec_list)+1)\n",
    "        score_ser = - abs(ser_ps_u-ser_list)\n",
    "        #score_final = 0.9 * v + 0.1 * score_ser\n",
    "        score_final = score_ser\n",
    "        dict_score_final[k]=score_final\n",
    "    ordered_score = sorted(dict_score_final.items(), key=lambda item: item[1], reverse=True)\n",
    "    movie, score = ordered_score[0]\n",
    "    if ser_values[movie]>0.7:\n",
    "        n_ser=n_ser+1\n",
    "    rec_list.append(movie)\n",
    "    dict_chosen_pred_r.pop(movie)"
   ]
  },
  {
   "cell_type": "code",
   "execution_count": 25,
   "id": "2a8f7b2a",
   "metadata": {},
   "outputs": [
    {
     "data": {
      "text/plain": [
       "[324, 1197, 946, 2959, 47997]"
      ]
     },
     "execution_count": 25,
     "metadata": {},
     "output_type": "execute_result"
    }
   ],
   "source": [
    "rec_list"
   ]
  },
  {
   "cell_type": "code",
   "execution_count": null,
   "id": "99efb69a",
   "metadata": {},
   "outputs": [],
   "source": []
  },
  {
   "cell_type": "code",
   "execution_count": null,
   "id": "218fdd43",
   "metadata": {},
   "outputs": [],
   "source": []
  }
 ],
 "metadata": {
  "kernelspec": {
   "display_name": "Python 3 (ipykernel)",
   "language": "python",
   "name": "python3"
  },
  "language_info": {
   "codemirror_mode": {
    "name": "ipython",
    "version": 3
   },
   "file_extension": ".py",
   "mimetype": "text/x-python",
   "name": "python",
   "nbconvert_exporter": "python",
   "pygments_lexer": "ipython3",
   "version": "3.10.6"
  }
 },
 "nbformat": 4,
 "nbformat_minor": 5
}
